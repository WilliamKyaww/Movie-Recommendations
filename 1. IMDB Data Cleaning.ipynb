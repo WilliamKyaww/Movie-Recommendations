{
 "cells": [
  {
   "cell_type": "code",
   "execution_count": 3,
   "metadata": {},
   "outputs": [
    {
     "name": "stdout",
     "output_type": "stream",
     "text": [
      "Current working directory: c:\\Users\\willi\\OneDrive\\Documents\\GitHub\\Movie-Recommendations\n"
     ]
    }
   ],
   "source": [
    "import os\n",
    "import pandas as pd\n",
    "\n",
    "script_dir = os.getcwd() \n",
    "\n",
    "print(f\"Current working directory: {script_dir}\")"
   ]
  },
  {
   "cell_type": "markdown",
   "metadata": {},
   "source": [
    "Originally, the title.basics.tsv.gz file contained the following fields: tconst, titleType, primaryTitle, originalTitle, isAdult, startYear, endYear, runtimeMinutes, and genres.\n",
    "\n",
    "Since the original title, start year, end year, and runtime are not relevant features, I have removed them. Additionally, I have filtered out any content that is not classified as a movie (excluding \"short\" films)."
   ]
  },
  {
   "cell_type": "code",
   "execution_count": null,
   "metadata": {},
   "outputs": [
    {
     "name": "stdout",
     "output_type": "stream",
     "text": [
      "Title basics filtered:\n",
      "        tconst titleType                    primaryTitle  \\\n",
      "8    tt0000009     movie                      Miss Jerry   \n",
      "144  tt0000147     movie   The Corbett-Fitzsimmons Fight   \n",
      "498  tt0000502     movie                        Bohemios   \n",
      "570  tt0000574     movie     The Story of the Kelly Gang   \n",
      "587  tt0000591     movie                The Prodigal Son   \n",
      "610  tt0000615     movie              Robbery Under Arms   \n",
      "625  tt0000630     movie                          Hamlet   \n",
      "668  tt0000675     movie                     Don Quijote   \n",
      "672  tt0000679     movie  The Fairylogue and Radio-Plays   \n",
      "828  tt0000838     movie              A Cultura do Cacau   \n",
      "\n",
      "                         genres isAdult  \n",
      "8                       Romance       0  \n",
      "144      Documentary,News,Sport       0  \n",
      "498                         NaN       0  \n",
      "570  Action,Adventure,Biography       0  \n",
      "587                       Drama       0  \n",
      "610                       Drama       0  \n",
      "625                       Drama       0  \n",
      "668                       Drama       0  \n",
      "672           Adventure,Fantasy       0  \n",
      "828                         NaN       0  \n"
     ]
    }
   ],
   "source": [
    "# File paths\n",
    "basics_input_file = os.path.join(script_dir, \"IMDB Datasets\", \"title.basics.tsv\")\n",
    "basics_output_file = os.path.join(script_dir, \"Cleaned Datasets\", \"title_basics_filtered.tsv\")\n",
    "\n",
    "df = pd.read_csv(basics_input_file, sep=\"\\t\", dtype=str, na_values=\"\\\\N\")\n",
    "title_basics_df_filtered = df.loc[df['titleType'] == 'movie', [\"tconst\", \"genres\", \"runtimeMinutes\", \"isAdult\"]]\n",
    "\n",
    "print(f\"Title basics filtered:\\n{title_basics_df_filtered.head(10)}\")"
   ]
  },
  {
   "cell_type": "markdown",
   "metadata": {},
   "source": [
    "### Title_basics Filtered\n",
    "\n",
    "| tconst     | titleType | primaryTitle                        | genres                           | isAdult |\n",
    "|------------|----------|-------------------------------------|----------------------------------|---------|\n",
    "| tt0000009  | movie    | Miss Jerry                         | Romance                          | 0       |\n",
    "| tt0000147  | movie    | The Corbett-Fitzsimmons Fight      | Documentary, News, Sport        | 0       |\n",
    "| tt0000502  | movie    | Bohemios                           |                                  | 0       |\n",
    "| tt0000574  | movie    | The Story of the Kelly Gang       | Action, Adventure, Biography    | 0       |\n"
   ]
  },
  {
   "cell_type": "markdown",
   "metadata": {},
   "source": [
    "To ensure data quality, I have also removed movies with fewer than 1,000 ratings, eliminating lesser-known films that could introduce noise into the recommendations."
   ]
  },
  {
   "cell_type": "code",
   "execution_count": 5,
   "metadata": {},
   "outputs": [
    {
     "name": "stdout",
     "output_type": "stream",
     "text": [
      "Mean: 1025.952498432897\n",
      "Median: 26.0\n",
      "Mode: 7\n",
      "\n",
      " Filtered rating dataset saved to: c:\\Users\\willi\\OneDrive\\Documents\\GitHub\\Movie-Recommendations\\Cleaned Datasets\\title_ratings_filtered.tsv\n",
      "\n",
      " Ratings filtered:\n",
      "       tconst averageRating  numVotes\n",
      "0   tt0000001           5.7      2137\n",
      "2   tt0000003           6.4      2170\n",
      "4   tt0000005           6.2      2902\n",
      "7   tt0000008           5.4      2281\n",
      "9   tt0000010           6.8      7882\n",
      "11  tt0000012           7.4     13382\n",
      "12  tt0000013           5.7      2051\n",
      "13  tt0000014           7.1      6109\n",
      "14  tt0000015           6.1      1262\n",
      "15  tt0000016           5.9      1646\n"
     ]
    }
   ],
   "source": [
    "# File paths\n",
    "ratings_input_file = os.path.join(script_dir, \"IMDB Datasets\", \"title.ratings.tsv\") \n",
    "ratings_output_file = os.path.join(script_dir, \"Cleaned Datasets\", \"title_ratings_filtered.tsv\")\n",
    "\n",
    "df = pd.read_csv(ratings_input_file, sep=\"\\t\", dtype=str, na_values=\"\\\\N\")\n",
    "df[\"numVotes\"] = df[\"numVotes\"].astype(int)\n",
    "\n",
    "# Calculate Mean, Median, Mode\n",
    "mean_votes = df[\"numVotes\"].mean()\n",
    "median_votes = df[\"numVotes\"].median()\n",
    "mode_votes = df[\"numVotes\"].mode()[0]\n",
    "\n",
    "# Print results\n",
    "print(f\"Mean: {mean_votes}\")\n",
    "print(f\"Median: {median_votes}\")\n",
    "print(f\"Mode: {mode_votes}\")\n",
    "\n",
    "ratings_df_filtered = df.loc[df[\"numVotes\"] >= 1000]\n",
    "\n",
    "ratings_df_filtered.to_csv(ratings_output_file, sep=\"\\t\", index=False)\n",
    "print(f\"\\n Filtered rating dataset saved to: {ratings_output_file}\")\n",
    "\n",
    "print(f\"\\n Ratings filtered:\\n{ratings_df_filtered.head(10)}\")"
   ]
  },
  {
   "cell_type": "markdown",
   "metadata": {},
   "source": [
    "### Movie Ratings Filtered\n",
    "\n",
    "| tconst     | averageRating | numVotes |\n",
    "|------------|--------------|----------|\n",
    "| tt0000001  | 5.7          | 2137     |\n",
    "| tt0000003  | 6.4          | 2170     |\n",
    "| tt0000005  | 6.2          | 2902     |\n",
    "| tt0000008  | 5.4          | 2281     |"
   ]
  },
  {
   "cell_type": "markdown",
   "metadata": {},
   "source": [
    "To create a comprehensive dataset, I merged the filtered movie data with ratings and crew information using the common identifier tconst. Additionally, I removed the titleType and numVotes columns, as they are no longer needed."
   ]
  },
  {
   "cell_type": "code",
   "execution_count": 6,
   "metadata": {},
   "outputs": [
    {
     "name": "stdout",
     "output_type": "stream",
     "text": [
      "Merged dataset saved to: c:\\Users\\willi\\OneDrive\\Documents\\GitHub\\Movie-Recommendations\\Cleaned Datasets\\merged_movie_data.tsv\n",
      "\n",
      " Merged dataset:\n",
      "      tconst                                       primaryTitle  \\\n",
      "0  tt0002130                                    Dante's Inferno   \n",
      "1  tt0002423                                            Passion   \n",
      "2  tt0002844          Fantômas: In the Shadow of the Guillotine   \n",
      "3  tt0003014                                      Ingeborg Holm   \n",
      "4  tt0003037                         Fantomas: The Man in Black   \n",
      "5  tt0003165                  Fantômas: The Dead Man Who Killed   \n",
      "6  tt0003419                              The Student of Prague   \n",
      "7  tt0003643  The Avenging Conscience: or 'Thou Shalt Not Kill'   \n",
      "8  tt0003740                                            Cabiria   \n",
      "9  tt0003772                                         Cinderella   \n",
      "\n",
      "                    genres isAdult averageRating  \\\n",
      "0  Adventure,Drama,Fantasy       0           7.0   \n",
      "1  Biography,Drama,Romance       0           6.6   \n",
      "2              Crime,Drama       0           6.9   \n",
      "3                    Drama       0           7.0   \n",
      "4              Crime,Drama       0           6.9   \n",
      "5      Crime,Drama,Mystery       0           6.9   \n",
      "6     Drama,Fantasy,Horror       0           6.4   \n",
      "7       Crime,Drama,Horror       0           6.4   \n",
      "8  Adventure,Drama,History       0           7.1   \n",
      "9            Drama,Fantasy       0           6.0   \n",
      "\n",
      "                       directors                                  writers  \n",
      "0  nm0078205,nm0655824,nm0209738                                nm0019604  \n",
      "1                      nm0523932                      nm0266183,nm0473134  \n",
      "2                      nm0275421            nm0019855,nm0275421,nm0816232  \n",
      "3                      nm0803705                      nm0472236,nm0803705  \n",
      "4                      nm0275421            nm0019855,nm0275421,nm0816232  \n",
      "5                      nm0275421            nm0019855,nm0275421,nm0816232  \n",
      "6            nm0263912,nm0753233                      nm0263912,nm0210503  \n",
      "7                      nm0000428                      nm0000590,nm0000428  \n",
      "8                      nm0665163  nm0195339,nm0515385,nm0665163,nm0758215  \n",
      "9                      nm0456804                                nm0674518  \n"
     ]
    }
   ],
   "source": [
    "# File paths\n",
    "files = {\n",
    "    \"basics\": os.path.join(script_dir, \"Cleaned Datasets\", \"title_basics_filtered.tsv\"),\n",
    "    \"ratings\": os.path.join(script_dir, \"Cleaned Datasets\", \"title_ratings_filtered.tsv\"),\n",
    "    \"crew\": os.path.join(script_dir, \"IMDB Datasets\", \"title.crew.tsv\"),  # Raw file\n",
    "}\n",
    "\n",
    "df = {name: pd.read_csv(path, sep=\"\\t\", dtype=str, na_values=\"\\\\N\") for name, path in files.items()}\n",
    "\n",
    "\n",
    "df_merged = pd.merge(df[\"basics\"], df[\"ratings\"], on=\"tconst\", how=\"inner\")\n",
    "df_merged = pd.merge(df_merged, df[\"crew\"], on=\"tconst\", how=\"left\")\n",
    "\n",
    "df_merged = df_merged.drop(columns=[\"titleType\", \"numVotes\"])\n",
    "\n",
    "\n",
    "output_file = os.path.join(script_dir, \"Cleaned Datasets\", \"merged_movie_data.tsv\")\n",
    "df_merged.to_csv(output_file, sep=\"\\t\", index=False)\n",
    "\n",
    "print(f\"Merged dataset saved to: {output_file}\")\n",
    "\n",
    "print(f\"\\n Merged dataset:\\n{df_merged.head(10)}\")"
   ]
  },
  {
   "cell_type": "markdown",
   "metadata": {},
   "source": [
    "### Merged Dataset\n",
    "\n",
    "| tconst     | primaryTitle                                      | genres                 | isAdult | averageRating | directors                         | writers                                 |\n",
    "|------------|--------------------------------------------------|------------------------|---------|--------------|----------------------------------|----------------------------------------|\n",
    "| tt0002130  | Dante's Inferno                                 | Adventure, Drama, Fantasy | 0       | 7.0          | nm0078205, nm0655824, nm0209738  | nm0019604                              |\n",
    "| tt0002423  | Passion                                        | Biography, Drama, Romance | 0       | 6.6          | nm0523932                        | nm0266183, nm0473134                   |\n",
    "| tt0002844  | Fantômas: In the Shadow of the Guillotine      | Crime, Drama           | 0       | 6.9          | nm0275421                        | nm0019855, nm0275421, nm0816232        |\n",
    "| tt0003014  | Ingeborg Holm                                  | Drama                  | 0       | 7.0          | nm0803705                        | nm0472236, nm0803705                   |\n",
    "| tt0003037  | Fantomas: The Man in Black                    | Crime, Drama           | 0       | 6.9          | nm0275421                        | nm0019855, nm0275421, nm0816232        |\n",
    "\n"
   ]
  }
 ],
 "metadata": {
  "kernelspec": {
   "display_name": "Python 3",
   "language": "python",
   "name": "python3"
  },
  "language_info": {
   "codemirror_mode": {
    "name": "ipython",
    "version": 3
   },
   "file_extension": ".py",
   "mimetype": "text/x-python",
   "name": "python",
   "nbconvert_exporter": "python",
   "pygments_lexer": "ipython3",
   "version": "3.13.0"
  }
 },
 "nbformat": 4,
 "nbformat_minor": 2
}
