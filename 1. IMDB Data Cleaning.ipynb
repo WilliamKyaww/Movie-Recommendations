{
 "cells": [
  {
   "cell_type": "code",
   "execution_count": 9,
   "metadata": {},
   "outputs": [
    {
     "name": "stdout",
     "output_type": "stream",
     "text": [
      "Current working directory: c:\\Users\\willi\\Downloads\\Dataset\n"
     ]
    }
   ],
   "source": [
    "import os\n",
    "import pandas as pd\n",
    "\n",
    "script_dir = os.getcwd() \n",
    "\n",
    "print(f\"Current working directory: {script_dir}\")"
   ]
  },
  {
   "cell_type": "markdown",
   "metadata": {},
   "source": [
    "Originally, the title.basics.tsv.gz file contained the following fields: tconst, titleType, primaryTitle, originalTitle, isAdult, startYear, endYear, runtimeMinutes, and genres.\n",
    "\n",
    "Since the original title, start year, end year, and runtime are not relevant features, I have removed them. Additionally, I have filtered out any content that is not classified as a movie (excluding \"short\" films)."
   ]
  },
  {
   "cell_type": "code",
   "execution_count": null,
   "metadata": {},
   "outputs": [
    {
     "name": "stdout",
     "output_type": "stream",
     "text": [
      "Filtered dataset saved to: c:\\Users\\willi\\Downloads\\Dataset\\Cleaned Datasets\\title_basics_filtered.tsv\n"
     ]
    }
   ],
   "source": [
    "# File paths\n",
    "basics_input_file = os.path.join(script_dir, \"IMDB Datasets\", \"title.basics.tsv\")\n",
    "basics_output_file = os.path.join(script_dir, \"Cleaned Datasets\", \"title_basics_filtered.tsv\")\n",
    "\n",
    "df = pd.read_csv(basics_input_file, sep=\"\\t\", dtype=str, na_values=\"\\\\N\")\n",
    "df_filtered = df.loc[df['titleType'] == 'movie', [\"tconst\", \"titleType\", \"primaryTitle\", \"genres\", \"isAdult\"]]\n",
    "df_filtered.to_csv(basics_output_file, sep=\"\\t\", index=False)\n",
    "\n",
    "print(f\"Filtered dataset saved to: {basics_output_file}\")"
   ]
  },
  {
   "cell_type": "markdown",
   "metadata": {},
   "source": [
    "To ensure data quality, I have also removed movies with fewer than 1,000 ratings, eliminating lesser-known films that could introduce noise into the recommendations."
   ]
  },
  {
   "cell_type": "code",
   "execution_count": null,
   "metadata": {},
   "outputs": [
    {
     "name": "stdout",
     "output_type": "stream",
     "text": [
      "Mean: 1025.952498432897\n",
      "Median: 26.0\n",
      "Mode: 7\n",
      "Filtered dataset saved to: c:\\Users\\willi\\Downloads\\Dataset\\Cleaned Datasets\\title_ratings_filtered.tsv\n"
     ]
    }
   ],
   "source": [
    "# File paths\n",
    "ratings_input_file = os.path.join(script_dir, \"IMDB Datasets\", \"title.ratings.tsv\") \n",
    "ratings_output_file = os.path.join(script_dir, \"Cleaned Datasets\", \"title_ratings_filtered.tsv\")\n",
    "\n",
    "df = pd.read_csv(ratings_input_file, sep=\"\\t\", dtype=str, na_values=\"\\\\N\")\n",
    "df[\"numVotes\"] = df[\"numVotes\"].astype(int)\n",
    "\n",
    "# Calculate Mean, Median, Mode\n",
    "mean_votes = df[\"numVotes\"].mean()\n",
    "median_votes = df[\"numVotes\"].median()\n",
    "mode_votes = df[\"numVotes\"].mode()[0]\n",
    "\n",
    "# Print results\n",
    "print(f\"Mean: {mean_votes}\")\n",
    "print(f\"Median: {median_votes}\")\n",
    "print(f\"Mode: {mode_votes}\")\n",
    "\n",
    "df_filtered = df.loc[df[\"numVotes\"] >= 1000]\n",
    "df_filtered.to_csv(ratings_output_file, sep=\"\\t\", index=False)\n",
    "\n",
    "print(f\"Filtered dataset saved to: {ratings_output_file}\")"
   ]
  },
  {
   "cell_type": "markdown",
   "metadata": {},
   "source": [
    "To create a comprehensive dataset, I merged the filtered movie data with ratings and crew information using the common identifier tconst. Additionally, I removed the titleType and numVotes columns, as they are no longer needed."
   ]
  },
  {
   "cell_type": "code",
   "execution_count": null,
   "metadata": {},
   "outputs": [
    {
     "name": "stdout",
     "output_type": "stream",
     "text": [
      "Merged dataset saved to: c:\\Users\\willi\\Downloads\\Dataset\\Cleaned Datasets\\merged_movie_data.tsv\n"
     ]
    }
   ],
   "source": [
    "# File paths\n",
    "files = {\n",
    "    \"basics\": os.path.join(script_dir, \"Cleaned Datasets\", \"title_basics_filtered.tsv\"),\n",
    "    \"ratings\": os.path.join(script_dir, \"Cleaned Datasets\", \"title_ratings_filtered.tsv\"),\n",
    "    \"crew\": os.path.join(script_dir, \"IMDB Datasets\", \"title.crew.tsv\"),  # Raw file\n",
    "}\n",
    "\n",
    "df = {name: pd.read_csv(path, sep=\"\\t\", dtype=str, na_values=\"\\\\N\") for name, path in files.items()}\n",
    "\n",
    "\n",
    "df_merged = pd.merge(df[\"basics\"], df[\"ratings\"], on=\"tconst\", how=\"inner\")\n",
    "df_merged = pd.merge(df_merged, df[\"crew\"], on=\"tconst\", how=\"left\")\n",
    "\n",
    "df_merged = df_merged.drop(columns=[\"titleType\", \"numVotes\"])\n",
    "\n",
    "\n",
    "output_file = os.path.join(script_dir, \"Cleaned Datasets\", \"merged_movie_data.tsv\")\n",
    "df_merged.to_csv(output_file, sep=\"\\t\", index=False)\n",
    "\n",
    "print(f\"Merged dataset saved to: {output_file}\")"
   ]
  },
  {
   "cell_type": "markdown",
   "metadata": {},
   "source": [
    "### Expected Final Dataset\n",
    "\n",
    "| tconst  | primaryTitle   | genres | isAdult | averageRating | directors | writers  |\n",
    "|---------|----------------|--------|---------|--------------|-----------|----------|\n",
    "| tt0001  | Example Movie  | Drama  | 0       | 7.5          | nm12345   | nm56789  |\n",
    "| tt0002  | Another Movie  | Comedy | 0       | 8.2          | nm67890   | nm54321  |\n"
   ]
  }
 ],
 "metadata": {
  "kernelspec": {
   "display_name": "Python 3",
   "language": "python",
   "name": "python3"
  },
  "language_info": {
   "codemirror_mode": {
    "name": "ipython",
    "version": 3
   },
   "file_extension": ".py",
   "mimetype": "text/x-python",
   "name": "python",
   "nbconvert_exporter": "python",
   "pygments_lexer": "ipython3",
   "version": "3.13.0"
  }
 },
 "nbformat": 4,
 "nbformat_minor": 2
}
