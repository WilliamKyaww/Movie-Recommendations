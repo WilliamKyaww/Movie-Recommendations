{
 "cells": [
  {
   "cell_type": "markdown",
   "metadata": {},
   "source": [
    "## Data Preprocessing\n",
    "\n",
    "Before building a recommendation model, we must clean and prepare the dataset:\n",
    "- Normalise ratings from a **0-5 scale** to a **0-1 scale**.\n",
    "- Filter out movies without an IMDb ID to align with MovieLens data.\n",
    "- Ensure all required data is correctly formatted."
   ]
  },
  {
   "cell_type": "code",
   "execution_count": 61,
   "metadata": {},
   "outputs": [
    {
     "name": "stdout",
     "output_type": "stream",
     "text": [
      "Current working directory: c:\\Users\\willi\\OneDrive\\Documents\\GitHub\\Test\\Movie-Recommendation\n"
     ]
    }
   ],
   "source": [
    "import os\n",
    "import pandas as pd\n",
    "\n",
    "script_dir = os.getcwd()\n",
    "\n",
    "print(f\"Current working directory: {script_dir}\")"
   ]
  },
  {
   "cell_type": "markdown",
   "metadata": {},
   "source": [
    "# Matching IMDb Movies with MovieLens Dataset"
   ]
  },
  {
   "cell_type": "code",
   "execution_count": 69,
   "metadata": {},
   "outputs": [
    {
     "name": "stdout",
     "output_type": "stream",
     "text": [
      "Total data rows in links.csv: 9742\n",
      "Total data rows in merged_movie_data.tsv: 45039\n",
      "\n",
      " df_links:\n",
      "   movieId  imdbId\n",
      "0        1  114709\n",
      "1        2  113497\n",
      "2        3  113228\n",
      "3        4  114885\n",
      "4        5  113041\n",
      "5        6  113277\n",
      "6        7  114319\n",
      "7        8  112302\n",
      "8        9  114576\n",
      "9       10  113189\n"
     ]
    }
   ],
   "source": [
    "# File paths\n",
    "links_file = os.path.join(script_dir, \"MovieLens Datasets Original\", \"links.csv\")\n",
    "merged_file = os.path.join(script_dir, \"Cleaned Datasets\", \"merged_movie_data.tsv\")\n",
    "\n",
    "# Load datasets\n",
    "df_links = pd.read_csv(links_file)\n",
    "df_merged = pd.read_csv(merged_file, sep=\"\\t\", dtype=str, na_values=\"\\\\N\")\n",
    "\n",
    "# Drop tmdbId column\n",
    "df_links = df_links.drop(columns=[\"tmdbId\"])\n",
    "\n",
    "# Number of data rows \n",
    "print(f\"Total data rows in links.csv: {len(df_links)}\")\n",
    "print(f\"Total data rows in merged_movie_data.tsv: {len(df_merged)}\")\n",
    "\n",
    "# Links datafile \n",
    "print(f\"\\n df_links:\\n{df_links.head(10)}\")"
   ]
  },
  {
   "cell_type": "markdown",
   "metadata": {},
   "source": [
    "From the output above, we can observe that:\n",
    "- The `links.csv` dataset contains a total of 9,742 rows.\n",
    "- The `merged_movie_data.tsv` dataset contains 45,039 rows.\n",
    "\n",
    "This indicates that the MovieLens dataset (`links.csv`) has fewer entries compared to the IMDB dataset (`merged_movie_data.tsv`). Therefore, we will need to remove the rows in the IMDB dataset where the IMDB ID does not have a corresponding MovieLens ID, based on the links.csv dataset."
   ]
  },
  {
   "cell_type": "code",
   "execution_count": null,
   "metadata": {},
   "outputs": [
    {
     "name": "stdout",
     "output_type": "stream",
     "text": [
      "Maximum movieId value: 193609\n",
      "Number of unique movieIds: 9742\n"
     ]
    }
   ],
   "source": [
    "'''\n",
    "\n",
    "# Check the max movieId value\n",
    "max_movie_id = df_links['movieId'].max()\n",
    "print(f\"Maximum movieId value: {max_movie_id}\")\n",
    "\n",
    "# Count unique movieIds\n",
    "unique_movie_ids = df_links['movieId'].nunique()\n",
    "print(f\"Number of unique movieIds: {unique_movie_ids}\")'\n",
    "\n",
    "\n",
    "'''"
   ]
  },
  {
   "cell_type": "markdown",
   "metadata": {},
   "source": [
    "The MovieLens dataset uses non-sequential IDs for movies. Below is a sample from the dataset showing a significant gap in the movieId values:\n",
    "\n",
    "| movieId | imdbId    | tmdbId  |\n",
    "|---------|-----------|---------|\n",
    "| 9018    | 0391024   | 18889   |\n",
    "| 25746   | 0014142   | 18987   |\n",
    "\n",
    "This explains why the dataset has 9,742 rows but the maximum movieId value is 193,609."
   ]
  },
  {
   "cell_type": "code",
   "execution_count": null,
   "metadata": {},
   "outputs": [],
   "source": [
    "'''\n",
    "\n",
    "# MovieLens imdbId doesn't include the \"tt\" prefix that IMDb uses\n",
    "\n",
    "def map_movie_ids():\n",
    "    # Dictionary mapping IMDb IDs to merged dataset rows\n",
    "    imdb_to_movie = {row['tconst']: row for _, row in df_merged.iterrows()}\n",
    "    \n",
    "    # New dataframe with mapped data\n",
    "    mapped_data = []\n",
    "    for _, row in df_links.iterrows():\n",
    "        # Format to match IMDb's tt0000000 format\n",
    "        imdb_id = f\"tt{row['imdbId']:07d}\"  \n",
    "        \n",
    "        if imdb_id in imdb_to_movie:\n",
    "            movie_data = imdb_to_movie[imdb_id]\n",
    "            # Create a row with data from both sources\n",
    "            mapped_data.append({\n",
    "                'movieId': row['movieId'], \n",
    "                'imdbId': imdb_id,        \n",
    "                'title': movie_data['primaryTitle'],\n",
    "            })\n",
    "    \n",
    "    return pd.DataFrame(mapped_data)\n",
    "\n",
    "'''"
   ]
  },
  {
   "cell_type": "markdown",
   "metadata": {},
   "source": [
    "This function filters the IMDb dataset (`df_merged`) to retain only the movies that exist in the MovieLens dataset (`df_links`). \n",
    "\n",
    "It does this by:\n",
    "- Extracting and formatting IMDb IDs from the links.csv file.\n",
    "- Matching these IDs with the tconst column in the merged IMDb dataset.\n",
    "- Saving the filtered dataset, which contains only movies that exist in both datasets.\n",
    "\n",
    "This ensures that only relevant movies are included for analysis or recommendations."
   ]
  },
  {
   "cell_type": "code",
   "execution_count": null,
   "metadata": {},
   "outputs": [
    {
     "name": "stdout",
     "output_type": "stream",
     "text": [
      "Total IMDb movies matched with MovieLens: 8902\n",
      "Saved filtered dataset to: c:\\Users\\willi\\OneDrive\\Documents\\GitHub\\Test\\Movie-Recommendation\\Cleaned Datasets\\imdb_movielens_matched.tsv\n"
     ]
    }
   ],
   "source": [
    "def filter_imdb_to_movielens_matches():\n",
    "    \n",
    "    movielens_imdb_ids = set()\n",
    "    \n",
    "    for _, row in df_links.iterrows():\n",
    "        # Convert float to int to string, then format\n",
    "        imdb_id = int(row['imdbId'])\n",
    "        formatted_id = f\"tt{imdb_id:07d}\"\n",
    "        movielens_imdb_ids.add(formatted_id)\n",
    "    \n",
    "    # Filter the merged IMDb dataset to only include movies with matching IDs\n",
    "    filtered_imdb = df_merged[df_merged['tconst'].isin(movielens_imdb_ids)]\n",
    "    \n",
    "    # Save the filtered dataset\n",
    "    output_file = os.path.join(script_dir, \"Cleaned Datasets\", \"Final_Movie_Data.tsv\")\n",
    "    filtered_imdb.to_csv(output_file, sep=\"\\t\", index=False)\n",
    "    \n",
    "    print(f\"Total IMDb movies matched with MovieLens: {len(filtered_imdb)}\")\n",
    "    print(f\"Saved filtered dataset to: {output_file}\")\n",
    "    \n",
    "    return filtered_imdb\n",
    "\n",
    "filtered_imdb_movies = filter_imdb_to_movielens_matches()"
   ]
  },
  {
   "cell_type": "code",
   "execution_count": null,
   "metadata": {},
   "outputs": [
    {
     "name": "stdout",
     "output_type": "stream",
     "text": [
      "Filtered IMDB Movies:\n",
      "       tconst                  primaryTitle                   genres isAdult  \\\n",
      "17  tt0004972         The Birth of a Nation                Drama,War       0   \n",
      "24  tt0006333  20,000 Leagues Under the Sea  Action,Adventure,Sci-Fi       0   \n",
      "26  tt0006864                   Intolerance            Drama,History       0   \n",
      "40  tt0010040               Daddy-Long-Legs             Comedy,Drama       0   \n",
      "\n",
      "   averageRating  directors                                            writers  \n",
      "17           6.1  nm0000428  nm0228746,nm0000428,nm0940488,nm0934306,nm1628...  \n",
      "24           6.1  nm0665737                                nm0894523,nm0665737  \n",
      "26           7.7  nm0000428  nm0048512,nm0115218,nm0000428,nm0002616,nm0640...  \n",
      "40           6.6  nm0624714                                nm0916914,nm0426515  \n"
     ]
    }
   ],
   "source": [
    "'''\n",
    "\n",
    "# Filtered IMDB Movies matched with MovieLens dataset - corresponds to file: Cleaned Datasets\\imdb_movielens_matched.tsv\n",
    "print(f\"Filtered IMDB Movies:\\n{filtered_imdb_movies.head(4)}\")'\n",
    "\n",
    "'''"
   ]
  },
  {
   "cell_type": "markdown",
   "metadata": {},
   "source": [
    "### IMDB-MovieLens Matched File:\n",
    "\n",
    "| tconst     | primaryTitle                | genres                       | isAdult | averageRating | directors     | writers                                                                                      |\n",
    "|------------|-----------------------------|------------------------------|---------|---------------|---------------|----------------------------------------------------------------------------------------------|\n",
    "| tt0004972  | The Birth of a Nation        | Drama,War                    | 0       | 6.1           | nm0000428      | nm0228746,nm0000428,nm0940488,nm0934306,nm16280870,nm16280871                                |\n",
    "| tt0006333  | 20,000 Leagues Under the Sea | Action,Adventure,Sci-Fi      | 0       | 6.1           | nm0665737      | nm0894523,nm0665737                                                                            |\n",
    "| tt0006864  | Intolerance                  | Drama,History                | 0       | 7.7           | nm0000428      | nm0048512,nm0115218,nm0000428,nm0002616,nm0640437,nm1578667,nm0940488                        |\n",
    "| tt0010040  | Daddy-Long-Legs              | Comedy,Drama                 | 0       | 6.6           | nm0624714      | nm0916914,nm0426515                                                                            |\n"
   ]
  },
  {
   "cell_type": "markdown",
   "metadata": {},
   "source": [
    "# Processing and Filtering Ratings Data with IMDb IDs"
   ]
  },
  {
   "cell_type": "markdown",
   "metadata": {},
   "source": [
    "In this section, I will have to:\n",
    "- remove the `timestamp` column as it is..\n",
    "- normalise the `rating` from a 0-5 scale to a 0-1 scale, so that\n",
    "- remove the rows of data where the movie isnt apart of the "
   ]
  },
  {
   "cell_type": "code",
   "execution_count": 68,
   "metadata": {},
   "outputs": [
    {
     "name": "stdout",
     "output_type": "stream",
     "text": [
      "   userId  movieId  rating\n",
      "0       1        1     0.8\n",
      "1       1        3     0.8\n",
      "2       1        6     0.8\n",
      "3       1       47     1.0\n",
      "4       1       50     1.0\n"
     ]
    }
   ],
   "source": [
    "ratings_file = os.path.join(script_dir, \"MovieLens Datasets Original\", \"ratings.csv\")\n",
    "\n",
    "df_ratings_raw = pd.read_csv(ratings_file)\n",
    "\n",
    "# Remove the timestamp column\n",
    "df_ratings = df_ratings_raw.drop(columns=[\"timestamp\"])\n",
    "\n",
    "# Normalise from 0-5 ratings to 0-1 \n",
    "df_ratings[\"rating\"] = df_ratings[\"rating\"] / 5.0\n",
    "\n",
    "print(f\"{df_ratings.head(5)}\")"
   ]
  },
  {
   "cell_type": "markdown",
   "metadata": {},
   "source": [
    "Merging Ratings with IMDb Links\n",
    "\n",
    "- The ratings dataset (df_ratings) is merged with the df_links dataset on movieId, to link ratings to IMDb IDs.\n",
    "- Only the relevant columns (userId, imdbId, and rating) are kept.\n",
    "\n",
    "The filtered dataset is then saved as ratings_imdb_matched.csv in the \"Cleaned Datasets\" folder, and the total number of ratings after filtering is displayed."
   ]
  },
  {
   "cell_type": "code",
   "execution_count": null,
   "metadata": {},
   "outputs": [
    {
     "name": "stdout",
     "output_type": "stream",
     "text": [
      "Filtered ratings dataset saved to: c:\\Users\\willi\\OneDrive\\Documents\\GitHub\\Test\\Movie-Recommendation\\Cleaned Datasets\\ratings_imdb_matched.csv\n",
      "Total ratings after filtering: 100836\n"
     ]
    }
   ],
   "source": [
    "# Merge ratings with links to get IMDb IDs\n",
    "df_ratings_filtered = df_ratings.merge(df_links, on=\"movieId\", how=\"inner\")\n",
    "\n",
    "# Keep only relevant columns \n",
    "df_ratings_filtered = df_ratings_filtered[[\"userId\", \"imdbId\", \"rating\"]]\n",
    "\n",
    "# Save the filtered ratings dataset\n",
    "filtered_ratings_file = os.path.join(script_dir, \"Cleaned Datasets\", \"Audience_Ratings.csv\")\n",
    "df_ratings_filtered.to_csv(filtered_ratings_file, index=False)\n",
    "\n",
    "# Display saved file locations \n",
    "print(f\"Filtered ratings dataset saved to: {filtered_ratings_file}\")\n",
    "print(f\"Total ratings after filtering: {len(df_ratings_filtered)}\")"
   ]
  },
  {
   "cell_type": "code",
   "execution_count": null,
   "metadata": {},
   "outputs": [
    {
     "name": "stdout",
     "output_type": "stream",
     "text": [
      "\n",
      "ratings.csv raw:\n",
      "   userId  movieId  rating  timestamp\n",
      "0       1        1     4.0  964982703\n",
      "1       1        3     4.0  964981247\n",
      "2       1        6     4.0  964982224\n",
      "3       1       47     5.0  964983815\n",
      "4       1       50     5.0  964982931\n",
      "\n",
      " df_ratings - timestamp column removed, ratings normalised:\n",
      "   userId  movieId  rating\n",
      "0       1        1     0.8\n",
      "1       1        3     0.8\n",
      "2       1        6     0.8\n",
      "3       1       47     1.0\n",
      "4       1       50     1.0\n",
      "\n",
      " df_ratings - movieID changed to imdbID:\n",
      "   userId  imdbId  rating\n",
      "0       1  114709     0.8\n",
      "1       1  113228     0.8\n",
      "2       1  113277     0.8\n",
      "3       1  114369     1.0\n",
      "4       1  114814     1.0\n"
     ]
    }
   ],
   "source": [
    "'''\n",
    "\n",
    "# Original ratings file\n",
    "print(f\"\\nratings.csv raw:\\n{df_ratings_raw.head(5)}\")\n",
    "\n",
    "# Cleaned and Normalised rating file \n",
    "print(f\"\\n df_ratings - timestamp column removed, ratings normalised:\\n{df_ratings.head(5)}\")\n",
    "\n",
    "# Final file, corresponds to Datasets\\Audience_Ratings.csv\n",
    "print(f\"\\n df_ratings - movieID changed to imdbID:\\n{df_ratings_filtered.head(5)}\")\n",
    "\n",
    "'''"
   ]
  },
  {
   "cell_type": "markdown",
   "metadata": {},
   "source": [
    "### Final Ratings Dataset\n",
    "\n",
    "\n",
    "| userId | imdbId | rating |\n",
    "|--------|--------|--------|\n",
    "| 1      | 114709 | 0.8    |\n",
    "| 1      | 113228 | 0.8    |\n",
    "| 1      | 113277 | 0.8    |\n",
    "| 1      | 114369 | 1.0    |\n"
   ]
  }
 ],
 "metadata": {
  "kernelspec": {
   "display_name": "Python 3",
   "language": "python",
   "name": "python3"
  },
  "language_info": {
   "codemirror_mode": {
    "name": "ipython",
    "version": 3
   },
   "file_extension": ".py",
   "mimetype": "text/x-python",
   "name": "python",
   "nbconvert_exporter": "python",
   "pygments_lexer": "ipython3",
   "version": "3.13.0"
  }
 },
 "nbformat": 4,
 "nbformat_minor": 2
}
