{
 "cells": [
  {
   "cell_type": "markdown",
   "metadata": {},
   "source": [
    "We will use collaborative filtering. It is a part of unsupervised learning\n",
    "\n",
    "**Key Steps:**\n",
    "  1. Split the dataset into training (80%) and testing (20%) sets.\n",
    "  2. Train the model using only the training data.\n",
    "  3. Use the model to predict ratings for movies in the test set.\n",
    "  4. Calculate errors between predicted and actual ratings.\n",
    "\n",
    "  If CF is used with only user-item interactions (e.g., movie watch history, clicks, purchases) without explicit labels, it’s considered unsupervised learning.\n",
    "memory-based collaborative filtering\n",
    "  You used ``````, which relies on similarity between movies (item-based filtering) to make recommendations. While this is a Machine Learning technique, it's not a model that \"learns\" from data in the way that deep learning does. Instead, it computes similarities and makes predictions based on existing ratings.\n",
    "\n",
    "\n"
   ]
  },
  {
   "cell_type": "code",
   "execution_count": 30,
   "metadata": {},
   "outputs": [
    {
     "name": "stdout",
     "output_type": "stream",
     "text": [
      "Current working directory: c:\\Users\\willi\\OneDrive\\Documents\\GitHub\\Movie-Recommendations\n"
     ]
    }
   ],
   "source": [
    "import pandas as pd\n",
    "import numpy as np\n",
    "from sklearn.metrics import mean_squared_error\n",
    "from math import sqrt\n",
    "\n",
    "\n",
    "script_dir = os.getcwd() \n",
    "\n",
    "print(f\"Current working directory: {script_dir}\")\n",
    "\n",
    "# Load ratings data\n",
    "ratings_file = os.path.join(script_dir, \"Cleaned Datasets\", \"Audience_Ratings.csv\")\n",
    "df_ratings = pd.read_csv(ratings_file)"
   ]
  },
  {
   "cell_type": "code",
   "execution_count": 31,
   "metadata": {},
   "outputs": [
    {
     "name": "stdout",
     "output_type": "stream",
     "text": [
      "Index(['userId', 'imdbId', 'rating'], dtype='object')\n",
      "Dataset shape: (100836, 3)\n",
      "Unique users: 610\n",
      "Unique movies: 9724\n"
     ]
    }
   ],
   "source": [
    "print(df_ratings.columns)\n",
    "\n",
    "print(\"Dataset shape:\", df_ratings.shape)\n",
    "\n",
    "# Drop NA values if any\n",
    "df_ratings.dropna(inplace=True)\n",
    "\n",
    "# Check unique users and movies\n",
    "print(f\"Unique users: {df_ratings['userId'].nunique()}\")\n",
    "print(f\"Unique movies: {df_ratings['imdbId'].nunique()}\")\n",
    "\n",
    "# Filter users or movies with very few interactions\n",
    "min_user_ratings = 5\n",
    "min_movie_ratings = 5\n",
    "\n",
    "user_counts = df_ratings['userId'].value_counts()\n",
    "movie_counts = df_ratings['imdbId'].value_counts()\n",
    "\n",
    "df = df_ratings[df_ratings['userId'].isin(user_counts[user_counts >= min_user_ratings].index)]\n",
    "df = df_ratings[df_ratings['imdbId'].isin(movie_counts[movie_counts >= min_movie_ratings].index)]\n"
   ]
  },
  {
   "cell_type": "markdown",
   "metadata": {},
   "source": [
    "From above we can see that the total rating 100,836 with 610 unique users and 9,724 unique movies. "
   ]
  },
  {
   "cell_type": "code",
   "execution_count": null,
   "metadata": {},
   "outputs": [
    {
     "name": "stderr",
     "output_type": "stream",
     "text": [
      "C:\\Users\\willi\\AppData\\Local\\Temp\\ipykernel_10720\\1355293449.py:11: SettingWithCopyWarning: \n",
      "A value is trying to be set on a copy of a slice from a DataFrame.\n",
      "Try using .loc[row_indexer,col_indexer] = value instead\n",
      "\n",
      "See the caveats in the documentation: https://pandas.pydata.org/pandas-docs/stable/user_guide/indexing.html#returning-a-view-versus-a-copy\n",
      "  df['user_idx'] = df['userId'].map(user2idx)\n",
      "C:\\Users\\willi\\AppData\\Local\\Temp\\ipykernel_10720\\1355293449.py:12: SettingWithCopyWarning: \n",
      "A value is trying to be set on a copy of a slice from a DataFrame.\n",
      "Try using .loc[row_indexer,col_indexer] = value instead\n",
      "\n",
      "See the caveats in the documentation: https://pandas.pydata.org/pandas-docs/stable/user_guide/indexing.html#returning-a-view-versus-a-copy\n",
      "  df['movie_idx'] = df['imdbId'].map(movie2idx)\n"
     ]
    }
   ],
   "source": [
    "# Mapping for userId and imdbId to index-based values\n",
    "user_ids = df['userId'].unique()\n",
    "movie_ids = df['imdbId'].unique()\n",
    "\n",
    "user2idx = {user_id: idx for idx, user_id in enumerate(user_ids)}\n",
    "movie2idx = {movie_id: idx for idx, movie_id in enumerate(movie_ids)}\n",
    "\n",
    "df['user_idx'] = df['userId'].map(user2idx)\n",
    "df['movie_idx'] = df['imdbId'].map(movie2idx)\n"
   ]
  },
  {
   "cell_type": "code",
   "execution_count": 33,
   "metadata": {},
   "outputs": [],
   "source": [
    "n_users = len(user2idx)\n",
    "n_movies = len(movie2idx)\n",
    "n_factors = 20  # Number of latent features\n",
    "\n",
    "# Initialize user and movie matrices\n",
    "np.random.seed(42)\n",
    "P = np.random.normal(scale=0.1, size=(n_users, n_factors))  # User latent matrix\n",
    "Q = np.random.normal(scale=0.1, size=(n_movies, n_factors))  # Movie latent matrix\n",
    "\n",
    "# Bias terms\n",
    "user_bias = np.zeros(n_users)\n",
    "movie_bias = np.zeros(n_movies)\n",
    "global_bias = df['rating'].mean()\n"
   ]
  },
  {
   "cell_type": "code",
   "execution_count": 34,
   "metadata": {},
   "outputs": [],
   "source": [
    "def train_svd(df, P, Q, user_bias, movie_bias, global_bias, n_factors, epochs=20, lr=0.01, reg=0.1):\n",
    "    for epoch in range(epochs):\n",
    "        for row in df.itertuples():\n",
    "            u = row.user_idx\n",
    "            m = row.movie_idx\n",
    "            rating = row.rating\n",
    "\n",
    "            pred = global_bias + user_bias[u] + movie_bias[m] + np.dot(P[u], Q[m])\n",
    "            error = rating - pred\n",
    "\n",
    "            # Update biases\n",
    "            user_bias[u] += lr * (error - reg * user_bias[u])\n",
    "            movie_bias[m] += lr * (error - reg * movie_bias[m])\n",
    "\n",
    "            # Update latent factors\n",
    "            P[u] += lr * (error * Q[m] - reg * P[u])\n",
    "            Q[m] += lr * (error * P[u] - reg * Q[m])\n",
    "        \n",
    "        # Optional: evaluate performance after each epoch\n",
    "        preds = predict_all(df, P, Q, user_bias, movie_bias, global_bias)\n",
    "        rmse = sqrt(mean_squared_error(df['rating'], preds))\n",
    "        print(f\"Epoch {epoch+1}/{epochs}, RMSE: {rmse:.4f}\")\n",
    "    \n",
    "    return P, Q, user_bias, movie_bias\n"
   ]
  },
  {
   "cell_type": "code",
   "execution_count": 35,
   "metadata": {},
   "outputs": [],
   "source": [
    "def predict_all(df, P, Q, user_bias, movie_bias, global_bias):\n",
    "    preds = []\n",
    "    for row in df.itertuples():\n",
    "        u = row.user_idx\n",
    "        m = row.movie_idx\n",
    "        pred = global_bias + user_bias[u] + movie_bias[m] + np.dot(P[u], Q[m])\n",
    "        preds.append(pred)\n",
    "    return np.array(preds)\n"
   ]
  },
  {
   "cell_type": "code",
   "execution_count": 36,
   "metadata": {},
   "outputs": [
    {
     "name": "stdout",
     "output_type": "stream",
     "text": [
      "Epoch 1/20, RMSE: 0.1815\n",
      "Epoch 2/20, RMSE: 0.1755\n",
      "Epoch 3/20, RMSE: 0.1723\n",
      "Epoch 4/20, RMSE: 0.1703\n",
      "Epoch 5/20, RMSE: 0.1689\n",
      "Epoch 6/20, RMSE: 0.1679\n",
      "Epoch 7/20, RMSE: 0.1671\n",
      "Epoch 8/20, RMSE: 0.1666\n",
      "Epoch 9/20, RMSE: 0.1661\n",
      "Epoch 10/20, RMSE: 0.1657\n",
      "Epoch 11/20, RMSE: 0.1654\n",
      "Epoch 12/20, RMSE: 0.1652\n",
      "Epoch 13/20, RMSE: 0.1649\n",
      "Epoch 14/20, RMSE: 0.1648\n",
      "Epoch 15/20, RMSE: 0.1646\n",
      "Epoch 16/20, RMSE: 0.1645\n",
      "Epoch 17/20, RMSE: 0.1644\n",
      "Epoch 18/20, RMSE: 0.1643\n",
      "Epoch 19/20, RMSE: 0.1642\n",
      "Epoch 20/20, RMSE: 0.1642\n"
     ]
    }
   ],
   "source": [
    "P, Q, user_bias, movie_bias = train_svd(df, P, Q, user_bias, movie_bias, global_bias, n_factors=20, epochs=20, lr=0.01, reg=0.1)\n"
   ]
  },
  {
   "cell_type": "code",
   "execution_count": 37,
   "metadata": {},
   "outputs": [
    {
     "data": {
      "text/plain": [
       "np.float64(0.7074716972771784)"
      ]
     },
     "execution_count": 37,
     "metadata": {},
     "output_type": "execute_result"
    }
   ],
   "source": [
    "def predict_rating(user_id, movie_id):\n",
    "    u = user2idx.get(user_id)\n",
    "    m = movie2idx.get(movie_id)\n",
    "    if u is None or m is None:\n",
    "        return global_bias  # Fallback to global average\n",
    "    pred = global_bias + user_bias[u] + movie_bias[m] + np.dot(P[u], Q[m])\n",
    "    return pred\n",
    "\n",
    "# Example:\n",
    "predict_rating(1, 1)\n"
   ]
  }
 ],
 "metadata": {
  "kernelspec": {
   "display_name": "Python 3",
   "language": "python",
   "name": "python3"
  },
  "language_info": {
   "codemirror_mode": {
    "name": "ipython",
    "version": 3
   },
   "file_extension": ".py",
   "mimetype": "text/x-python",
   "name": "python",
   "nbconvert_exporter": "python",
   "pygments_lexer": "ipython3",
   "version": "3.13.0"
  }
 },
 "nbformat": 4,
 "nbformat_minor": 2
}
