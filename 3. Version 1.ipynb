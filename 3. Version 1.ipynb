{
 "cells": [
  {
   "cell_type": "code",
   "execution_count": 7,
   "metadata": {},
   "outputs": [
    {
     "name": "stdout",
     "output_type": "stream",
     "text": [
      "Current working directory: c:\\Users\\willi\\OneDrive\\Documents\\GitHub\\Test\\Movie-Recommendation\n"
     ]
    }
   ],
   "source": [
    "import pandas as pd\n",
    "import numpy as np\n",
    "import os\n",
    "\n",
    "\n",
    "script_dir = os.getcwd() \n",
    "\n",
    "print(f\"Current working directory: {script_dir}\")"
   ]
  },
  {
   "cell_type": "code",
   "execution_count": null,
   "metadata": {},
   "outputs": [
    {
     "name": "stdout",
     "output_type": "stream",
     "text": [
      "   userId  imdbId  rating\n",
      "0       1  114709     0.8\n",
      "1       1  113228     0.8\n",
      "2       1  113277     0.8\n",
      "3       1  114369     1.0\n",
      "4       1  114814     1.0\n",
      "5       1  116367     0.6\n",
      "6       1  115734     1.0\n",
      "7       1  112573     0.8\n",
      "8       1  114287     1.0\n",
      "9       1  109370     1.0\n"
     ]
    }
   ],
   "source": [
    "# Load ratings data\n",
    "ratings_file = os.path.join(script_dir, \"Cleaned Datasets\", \"ratings_imdb_matched.csv\")\n",
    "df_ratings = pd.read_csv(ratings_file)\n",
    "\n",
    "# print(df_ratings.head(10))"
   ]
  },
  {
   "cell_type": "code",
   "execution_count": 10,
   "metadata": {},
   "outputs": [
    {
     "name": "stdout",
     "output_type": "stream",
     "text": [
      "imdbId  417      439      516      4972     6333     6864     7264     \\\n",
      "userId                                                                  \n",
      "1           0.0      0.0      0.0      0.0      0.0      0.0      0.0   \n",
      "2           0.0      0.0      0.0      0.0      0.0      0.0      0.0   \n",
      "3           0.0      0.0      0.0      0.0      0.0      0.0      0.0   \n",
      "4           0.0      0.0      0.0      0.0      0.0      0.0      0.0   \n",
      "5           0.0      0.0      0.0      0.0      0.0      0.0      0.0   \n",
      "6           0.0      0.0      0.0      0.0      0.0      0.0      0.0   \n",
      "7           0.0      0.0      0.0      0.0      0.0      0.0      0.0   \n",
      "8           0.0      0.0      0.0      0.0      0.0      0.0      0.0   \n",
      "9           0.0      0.0      0.0      0.0      0.0      0.0      0.0   \n",
      "10          0.0      0.0      0.0      0.0      0.0      0.0      0.0   \n",
      "\n",
      "imdbId  7361     8133     10040    ...  7539884  7544820  7620650  7681902  \\\n",
      "userId                             ...                                       \n",
      "1           0.0      0.0      0.0  ...      0.0      0.0      0.0      0.0   \n",
      "2           0.0      0.0      0.0  ...      0.0      0.0      0.0      0.0   \n",
      "3           0.0      0.0      0.0  ...      0.0      0.0      0.0      0.0   \n",
      "4           0.0      0.0      0.0  ...      0.0      0.0      0.0      0.0   \n",
      "5           0.0      0.0      0.0  ...      0.0      0.0      0.0      0.0   \n",
      "6           0.0      0.0      0.0  ...      0.0      0.0      0.0      0.0   \n",
      "7           0.0      0.0      0.0  ...      0.0      0.0      0.0      0.0   \n",
      "8           0.0      0.0      0.0  ...      0.0      0.0      0.0      0.0   \n",
      "9           0.0      0.0      0.0  ...      0.0      0.0      0.0      0.0   \n",
      "10          0.0      0.0      0.0  ...      0.0      0.0      0.0      0.0   \n",
      "\n",
      "imdbId  7690670  7738550  7807952  7808620  7924798  8391976  \n",
      "userId                                                        \n",
      "1           0.0      0.0      0.0      0.0      0.0      0.0  \n",
      "2           0.0      0.0      0.0      0.0      0.0      0.0  \n",
      "3           0.0      0.0      0.0      0.0      0.0      0.0  \n",
      "4           0.0      0.0      0.0      0.0      0.0      0.0  \n",
      "5           0.0      0.0      0.0      0.0      0.0      0.0  \n",
      "6           0.0      0.0      0.0      0.0      0.0      0.0  \n",
      "7           0.0      0.0      0.0      0.0      0.0      0.0  \n",
      "8           0.0      0.0      0.0      0.0      0.0      0.0  \n",
      "9           0.0      0.0      0.0      0.0      0.0      0.0  \n",
      "10          0.0      0.0      0.0      0.0      0.0      0.0  \n",
      "\n",
      "[10 rows x 9724 columns]\n"
     ]
    }
   ],
   "source": [
    "# Create user-item matrix\n",
    "user_item_matrix = df_ratings.pivot(index=\"userId\", columns=\"imdbId\", values=\"rating\").fillna(0)\n",
    "\n",
    "# Convert to NumPy array\n",
    "ratings_matrix = user_item_matrix.values\n",
    "\n",
    "print(user_item_matrix.head(10))\n"
   ]
  },
  {
   "cell_type": "code",
   "execution_count": 11,
   "metadata": {},
   "outputs": [
    {
     "name": "stdout",
     "output_type": "stream",
     "text": [
      "imdbId   417       439      516       4972     6333      6864     7264     \\\n",
      "imdbId                                                                      \n",
      "417     1.000000  0.107161      0.0  0.000000      0.0  0.000000      0.0   \n",
      "439     0.107161  1.000000      0.0  0.970143      0.0  0.970143      0.0   \n",
      "516     0.000000  0.000000      1.0  0.000000      0.0  0.000000      1.0   \n",
      "4972    0.000000  0.970143      0.0  1.000000      0.0  1.000000      0.0   \n",
      "6333    0.000000  0.000000      0.0  0.000000      1.0  0.000000      0.0   \n",
      "6864    0.000000  0.970143      0.0  1.000000      0.0  1.000000      0.0   \n",
      "7264    0.000000  0.000000      1.0  0.000000      0.0  0.000000      1.0   \n",
      "7361    0.378717  0.000000      0.0  0.000000      0.0  0.000000      0.0   \n",
      "8133    0.568075  0.000000      0.0  0.000000      0.0  0.000000      0.0   \n",
      "10040   0.000000  0.000000      0.0  0.000000      0.0  0.000000      0.0   \n",
      "\n",
      "imdbId   7361      8133     10040    ...   7539884  7544820  7620650  7681902  \\\n",
      "imdbId                               ...                                        \n",
      "417     0.378717  0.568075      0.0  ...  0.000000      0.0      0.0      0.0   \n",
      "439     0.000000  0.000000      0.0  ...  0.000000      0.0      0.0      0.0   \n",
      "516     0.000000  0.000000      0.0  ...  0.752577      0.0      0.0      0.0   \n",
      "4972    0.000000  0.000000      0.0  ...  0.000000      0.0      0.0      0.0   \n",
      "6333    0.000000  0.000000      0.0  ...  0.000000      0.0      0.0      0.0   \n",
      "6864    0.000000  0.000000      0.0  ...  0.000000      0.0      0.0      0.0   \n",
      "7264    0.000000  0.000000      0.0  ...  0.752577      0.0      0.0      0.0   \n",
      "7361    1.000000  0.000000      0.0  ...  0.000000      0.0      0.0      0.0   \n",
      "8133    0.000000  1.000000      0.0  ...  0.000000      0.0      0.0      0.0   \n",
      "10040   0.000000  0.000000      1.0  ...  0.000000      0.0      0.0      0.0   \n",
      "\n",
      "imdbId   7690670  7738550  7807952  7808620   7924798  8391976  \n",
      "imdbId                                                          \n",
      "417     0.378717      0.0      0.0      0.0  0.000000      0.0  \n",
      "439     0.000000      0.0      0.0      0.0  0.000000      0.0  \n",
      "516     0.000000      0.0      0.0      0.0  0.847998      0.0  \n",
      "4972    0.000000      0.0      0.0      0.0  0.000000      0.0  \n",
      "6333    0.000000      0.0      0.0      0.0  0.000000      0.0  \n",
      "6864    0.000000      0.0      0.0      0.0  0.000000      0.0  \n",
      "7264    0.000000      0.0      0.0      0.0  0.847998      0.0  \n",
      "7361    1.000000      0.0      0.0      0.0  0.000000      0.0  \n",
      "8133    0.000000      0.0      0.0      0.0  0.000000      0.0  \n",
      "10040   0.000000      0.0      0.0      0.0  0.000000      0.0  \n",
      "\n",
      "[10 rows x 9724 columns]\n"
     ]
    }
   ],
   "source": [
    "from numpy.linalg import norm\n",
    "\n",
    "# Compute cosine similarity manually\n",
    "def cosine_similarity(movie1, movie2):\n",
    "    dot_product = np.dot(movie1, movie2)\n",
    "    norm_product = norm(movie1) * norm(movie2)\n",
    "    return dot_product / norm_product if norm_product != 0 else 0\n",
    "\n",
    "# Create similarity matrix\n",
    "num_movies = ratings_matrix.shape[1]\n",
    "similarity_matrix = np.zeros((num_movies, num_movies))\n",
    "\n",
    "for i in range(num_movies):\n",
    "    for j in range(num_movies):\n",
    "        similarity_matrix[i, j] = cosine_similarity(ratings_matrix[:, i], ratings_matrix[:, j])\n",
    "\n",
    "# Convert to DataFrame\n",
    "movie_similarity_df = pd.DataFrame(similarity_matrix, index=user_item_matrix.columns, columns=user_item_matrix.columns)\n",
    "\n",
    "print(movie_similarity_df.head(10))\n"
   ]
  },
  {
   "cell_type": "code",
   "execution_count": 12,
   "metadata": {},
   "outputs": [
    {
     "name": "stdout",
     "output_type": "stream",
     "text": [
      "Recommended movies: [91042, 95016, 88847, 119116, 90605]\n"
     ]
    }
   ],
   "source": [
    "def recommend_movies(user_id, num_recommendations=5):\n",
    "    # Get movies rated by the user\n",
    "    user_ratings = user_item_matrix.loc[user_id]\n",
    "    \n",
    "    # Get only the movies they rated\n",
    "    rated_movies = user_ratings[user_ratings > 0].index.tolist()\n",
    "    \n",
    "    # Compute weighted sum of similarities for each unrated movie\n",
    "    movie_scores = {}\n",
    "    for movie in rated_movies:\n",
    "        similar_movies = movie_similarity_df[movie].sort_values(ascending=False)\n",
    "        for similar_movie, similarity_score in similar_movies.items():\n",
    "            if similar_movie not in rated_movies:\n",
    "                if similar_movie not in movie_scores:\n",
    "                    movie_scores[similar_movie] = 0\n",
    "                movie_scores[similar_movie] += similarity_score * user_ratings[movie]\n",
    "    \n",
    "    # Sort by highest score\n",
    "    sorted_movies = sorted(movie_scores.items(), key=lambda x: x[1], reverse=True)\n",
    "    \n",
    "    return [movie for movie, score in sorted_movies[:num_recommendations]]\n",
    "\n",
    "# Example: Recommend 5 movies for user 1\n",
    "print(\"Recommended movies:\", recommend_movies(user_id=1, num_recommendations=5))\n"
   ]
  }
 ],
 "metadata": {
  "kernelspec": {
   "display_name": "Python 3",
   "language": "python",
   "name": "python3"
  },
  "language_info": {
   "codemirror_mode": {
    "name": "ipython",
    "version": 3
   },
   "file_extension": ".py",
   "mimetype": "text/x-python",
   "name": "python",
   "nbconvert_exporter": "python",
   "pygments_lexer": "ipython3",
   "version": "3.13.0"
  }
 },
 "nbformat": 4,
 "nbformat_minor": 2
}
